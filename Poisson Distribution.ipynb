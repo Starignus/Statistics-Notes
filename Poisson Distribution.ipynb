{
 "cells": [
  {
   "cell_type": "markdown",
   "metadata": {},
   "source": [
    "#### Let's learn about the Poisson Distribution! \n",
    "Note: I suggest you learn about the binomial distribution first."
   ]
  },
  {
   "cell_type": "markdown",
   "metadata": {},
   "source": [
    "A poisson distribution focuses on the number of discrete events or occurrences over a specified interval or continuum (e.g. time, length, distance, etc.). We'll look at the formal definition, get a break down of what that actually means, see an example and then look at the other characteristics such as mean and standard deviation."
   ]
  },
  {
   "cell_type": "markdown",
   "metadata": {},
   "source": [
    "Formal Definition: A discrete random variable X has a Poisson distribution with parameter λ if for k=0,1,2.., the probability mass function of X is given by:"
   ]
  },
  {
   "cell_type": "markdown",
   "metadata": {},
   "source": [
    "$$Pr(X=k)=\\frac{\\lambda^ke^{-\\lambda}}{k!}$$"
   ]
  },
  {
   "cell_type": "markdown",
   "metadata": {},
   "source": [
    "where e is Euler's number (e=2.718...) and k! is the factorial of k.\n",
    "      "
   ]
  },
  {
   "cell_type": "markdown",
   "metadata": {},
   "source": [
    "The Poisson Distribution has the following characteristics:\n",
    "\n",
    "    1.) Discrete outcomes (x=0,1,2,3...)\n",
    "    2.) The number of occurrences can range from zero to infinity (theoretically). \n",
    "    3.) It describes the distribution of infrequent (rare) events.\n",
    "    4.) Each event is independent of the other events.\n",
    "    5.) Describes discrete events over an interval such as a time or distance.\n",
    "    6.) The expected number of occurrences E(X) are assumed to be constant throughout the experiment."
   ]
  },
  {
   "cell_type": "markdown",
   "metadata": {},
   "source": [
    "So what would an example question look like? \n",
    "\n",
    "Let's say a McDonald's has a lunch rush  from 12:30pm to 1:00pm. From looking at customer sales from previous days, we know that on average 10 customers enter during 12:30pm to 1:00pm. What is the probability that *exactly* 7 customers enter during lunch rush? What is the probability that *more than* 10 customers arrive? "
   ]
  },
  {
   "cell_type": "markdown",
   "metadata": {},
   "source": [
    "Let's begin by thinking about how many customers we expect to come into McDonald's during lunch rush. Well we were actually already given that information, it's 10. This means that the mean is 10, then our expected value E(X)=10. In the Poisson distribution this is λ. ** So the mean = λ for a Poisson Distribution, it is the expected number of occurences over the specfied interval**.\n",
    "\n",
    "λ is the average number of events in an interval. λ is the event rate, also called the rate parameter."
   ]
  },
  {
   "cell_type": "markdown",
   "metadata": {},
   "source": [
    "So since we now know what λ is, we can plug the information into the probability mass function and get an answer, let's use python and see how this works. Let's start off by answering the first question: \n",
    "\n",
    "What is the probability that exactly 7 customers enter during lunch rush?"
   ]
  },
  {
   "cell_type": "code",
   "execution_count": 1,
   "metadata": {},
   "outputs": [
    {
     "name": "stdout",
     "output_type": "stream",
     "text": [
      " There is a 9.01 % chance that exactly 7 customers show up at the lunch rush\n"
     ]
    }
   ],
   "source": [
    "# Note do not use lambda as an object name in python! It is already used for special lambda functions in Python!!\n",
    "\n",
    "# Set lambda\n",
    "lamb = 10\n",
    "\n",
    "# Set k to the number of occurences\n",
    "k = 7\n",
    "\n",
    "#Set up e and factorial math statements\n",
    "from math import exp\n",
    "from math import factorial\n",
    "from __future__ import division\n",
    "\n",
    "# Now put the probability mass function\n",
    "prob = (lamb ** k) * exp(-lamb) / factorial(k)\n",
    "\n",
    "# Put into percentage form and print answer\n",
    "print ' There is a %2.2f %% chance that exactly 7 customers show up at the lunch rush' %(100*prob)"
   ]
  },
  {
   "cell_type": "markdown",
   "metadata": {},
   "source": [
    "Now that we've seen how to create the PMF manually, let's see how to do it automatically with scipy."
   ]
  },
  {
   "cell_type": "code",
   "execution_count": 2,
   "metadata": {},
   "outputs": [
    {
     "name": "stdout",
     "output_type": "stream",
     "text": [
      "There is a 9.01 % chance that exactly 7 customers show up at the lunch rush\n",
      "The mean is 10.00 \n"
     ]
    }
   ],
   "source": [
    "# Import the dsitrubtion from scipy.stats\n",
    "from scipy.stats import poisson\n",
    "\n",
    "# Set our mean = 10 customers for the lunch rush\n",
    "mu = 10\n",
    "\n",
    "# Then we can get the mean and variance\n",
    "mean, var = poisson.stats(mu)\n",
    "\n",
    "# We can also calculate the PMF at specific points, such as the odds of exactly 7 customers\n",
    "odds_seven = poisson.pmf(7, mu)\n",
    "\n",
    "#Print\n",
    "print 'There is a %2.2f %% chance that exactly 7 customers show up at the lunch rush' %(100 * odds_seven)\n",
    "\n",
    "# Print the mean\n",
    "print 'The mean is %2.2f ' %mean"
   ]
  },
  {
   "cell_type": "markdown",
   "metadata": {},
   "source": [
    "Awesome! Our manual results match up with scipy's built in stats distribution generator!\n",
    "\n",
    "Now what if we wanted to see the entire distribution? We'll need this information to answer the second question."
   ]
  },
  {
   "cell_type": "code",
   "execution_count": 3,
   "metadata": {},
   "outputs": [],
   "source": [
    "# Now let's get the PMF and plot it\n",
    "\n",
    "# First the PMF\n",
    "import numpy as np\n",
    "\n",
    "# Let's see the PMF for all the way to 30 customers, remeber theoretically an infinite number of customers could show up.\n",
    "k = np.arange(30)\n",
    "\n",
    "# Average of 10 customers for the time interval\n",
    "lamb = 10\n",
    "\n",
    "#The PMF we'll use to plot\n",
    "pmf_pois = poisson.pmf(k, lamb)\n",
    "\n",
    "\n"
   ]
  },
  {
   "cell_type": "code",
   "execution_count": 10,
   "metadata": {},
   "outputs": [
    {
     "data": {
      "text/plain": [
       "array([  4.53999298e-05,   4.53999298e-04,   2.26999649e-03,\n",
       "         7.56665496e-03,   1.89166374e-02,   3.78332748e-02,\n",
       "         6.30554580e-02,   9.00792257e-02,   1.12599032e-01,\n",
       "         1.25110036e-01,   1.25110036e-01,   1.13736396e-01,\n",
       "         9.47803301e-02,   7.29079462e-02,   5.20771044e-02,\n",
       "         3.47180696e-02,   2.16987935e-02,   1.27639962e-02,\n",
       "         7.09110899e-03,   3.73216263e-03,   1.86608131e-03,\n",
       "         8.88610150e-04,   4.03913704e-04,   1.75614654e-04,\n",
       "         7.31727725e-05,   2.92691090e-05,   1.12573496e-05,\n",
       "         4.16938875e-06,   1.48906741e-06,   5.13471521e-07])"
      ]
     },
     "execution_count": 10,
     "metadata": {},
     "output_type": "execute_result"
    }
   ],
   "source": [
    "pmf_pois"
   ]
  },
  {
   "cell_type": "code",
   "execution_count": 6,
   "metadata": {},
   "outputs": [
    {
     "data": {
      "text/plain": [
       "<Container object of 30 artists>"
      ]
     },
     "execution_count": 6,
     "metadata": {},
     "output_type": "execute_result"
    },
    {
     "data": {
      "image/png": "[encoded data removed]",
      "text/plain": [
       "<matplotlib.figure.Figure at 0x1155de390>"
      ]
     },
     "metadata": {},
     "output_type": "display_data"
    }
   ],
   "source": [
    "# We can now plot it simply by\n",
    "import matplotlib.pyplot as plt\n",
    "import seaborn as sns\n",
    "%matplotlib inline\n",
    "\n",
    "#Simply call a barplot\n",
    "plt.bar(k, pmf_pois)\n",
    "\n"
   ]
  },
  {
   "cell_type": "markdown",
   "metadata": {},
   "source": [
    "For the question:  What is the probability that more than 10 customers arrive? We need to sum up the value of every bar past 10 the 10 customers bar.\n",
    "\n",
    "We can do this by using a Cumulative Distribution Function (CDF). This describes the probability that a random variable X with a given probability distribution (such as the Poisson in this current case) will be found to have a value less than or equal to X.\n",
    "\n",
    "What this means is if we use the CDF to calcualte the probability of 10 or less customers showing up we can take that probability and subtract it from the total probability space, which is just 1 (the sum of all the probabilities for every number of customers)."
   ]
  },
  {
   "cell_type": "code",
   "execution_count": 9,
   "metadata": {},
   "outputs": [
    {
     "name": "stdout",
     "output_type": "stream",
     "text": [
      "The probability that 10 or less customers show up is 58.3 %.\n"
     ]
    }
   ],
   "source": [
    "# scipy has a built in cdf we can use\n",
    "\n",
    "# Set out k = 10 for ten customers, set mean = 10 for the average of ten customers during lunch rush.\n",
    "k, mu = 10, 10\n",
    "\n",
    "# The probability that 10 or less customers show up is:\n",
    "prob_up_to_ten = poisson.cdf(k, mu)\n",
    "\n",
    "#print\n",
    "print 'The probability that 10 or less customers show up is %2.1f %%.' %(100 * prob_up_to_ten)"
   ]
  },
  {
   "cell_type": "markdown",
   "metadata": {},
   "source": [
    "Now we can answer the question for *more than* 10 customers. It will be the remaining probability space"
   ]
  },
  {
   "cell_type": "code",
   "execution_count": 8,
   "metadata": {},
   "outputs": [
    {
     "name": "stdout",
     "output_type": "stream",
     "text": [
      "The probability that more than ten customers show up during lunch rush is 41.7 %.\n"
     ]
    }
   ],
   "source": [
    "# Sorry for the long object names, but hopefully this makes the thought process very clear\n",
    "prob_more_than_ten = 1 - prob_up_to_ten\n",
    "\n",
    "print 'The probability that more than ten customers show up during lunch rush is %2.1f %%.' %(100*prob_more_than_ten)"
   ]
  },
  {
   "cell_type": "markdown",
   "metadata": {},
   "source": [
    "-----"
   ]
  },
  {
   "cell_type": "markdown",
   "metadata": {},
   "source": [
    "That's it for the basics of the poisson distribution! More free info can be found at these sources:\n",
    "\n",
    "1.)http://en.wikipedia.org/wiki/Poisson_distribution#Definition\n",
    "\n",
    "2.)http://stattrek.com/probability-distributions/poisson.aspx\n",
    "\n",
    "3.)http://docs.scipy.org/doc/scipy/reference/generated/scipy.stats.poisson.html"
   ]
  },
  {
   "cell_type": "code",
   "execution_count": null,
   "metadata": {
    "collapsed": true
   },
   "outputs": [],
   "source": []
  }
 ],
 "metadata": {
  "kernelspec": {
   "display_name": "Python [default]",
   "language": "python",
   "name": "python2"
  },
  "language_info": {
   "codemirror_mode": {
    "name": "ipython",
    "version": 2
   },
   "file_extension": ".py",
   "mimetype": "text/x-python",
   "name": "python",
   "nbconvert_exporter": "python",
   "pygments_lexer": "ipython2",
   "version": "2.7.13"
  }
 },
 "nbformat": 4,
 "nbformat_minor": 1
}
