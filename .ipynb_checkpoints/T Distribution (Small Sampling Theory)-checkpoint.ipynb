{
 "cells": [
  {
   "cell_type": "markdown",
   "metadata": {},
   "source": [
    "#### Let's learn the T-distribution! Note: Learn about the normal distribution first!"
   ]
  },
  {
   "cell_type": "markdown",
   "metadata": {},
   "source": [
    "For previous distributions the sample size was assumed large (N>30). For sample sizes that are less than 30, otherwise (N<30). Note: Sometimes the t-distribution is known as the student distribution."
   ]
  },
  {
   "cell_type": "markdown",
   "metadata": {},
   "source": [
    "The t-distribution allows for use of small samples, but does so by **sacrificing certainty** with a margin-of-error trade-off. **The t-distribution takes into account the sample size using n-1 degrees of freedom, which means there is a different t-distribution for every different sample size**. If we see the t-distribution against a normal distribution, you'll notice the tail ends increase as the peak get 'squished' down. \n",
    "\n",
    "**It's important to note, that as n gets larger, the t-distribution converges into a normal distribution.**"
   ]
  },
  {
   "cell_type": "markdown",
   "metadata": {},
   "source": [
    "To further explain degrees of freedom and how it relates to the t-distribution, **you can think of degrees of freedom as an adjustment to the sample size, such as (n-1)**. This is connected to the idea that we are estimating something of a larger population, in practice **it gives a slightly larger margin of error in the estimate**.\n",
    "\n",
    "Note from Wiki: In statistics, the number of degrees of freedom is the number of values in the final calculation of a statistic that are free to vary. The number of independent ways by which a dynamic system can move, without violating any constraint imposed on it, is called number of degrees of freedom. https://en.wikipedia.org/wiki/Degrees_of_freedom_(statistics)"
   ]
  },
  {
   "cell_type": "markdown",
   "metadata": {},
   "source": [
    "##### Degrees of Freedom\n",
    "\n",
    "There are actually many different t distributions. The particular form of the t distribution is determined by its degrees of freedom. **The degrees of freedom refers to the number of independent observations in a set of data**.\n",
    "\n",
    "When estimating a mean score or a proportion from a single sample, **the number of independent observations is equal to the sample size minus one**. Hence, the distribution of the t statistic from samples of size 8 would be described by a t distribution having 8 - 1 or 7 degrees of freedom. Similarly, a t distribution having 15 degrees of freedom would be used with a sample of size 16.\n",
    "\n",
    "For other applications, the degrees of freedom may be calculated differently. We will describe those computations as they come up."
   ]
  },
  {
   "cell_type": "markdown",
   "metadata": {},
   "source": [
    "<p align=\"dist\">\n",
    "<img src=\"T-Z_distribution.jpg\" alt=\"Drawing\" width=\"500\">\n",
    "</p>"
   ]
  },
  {
   "cell_type": "markdown",
   "metadata": {},
   "source": [
    "Let's define a new variable called t, where\n",
    ":\n",
    "$$t=\\frac{\\overline{X}-\\mu}{s}\\sqrt{N-1}=\\frac{\\overline{X}-\\mu}{s/\\sqrt{N}}$$"
   ]
  },
  {
   "cell_type": "markdown",
   "metadata": {},
   "source": [
    "which is analogous to the z statistic (https://en.wikipedia.org/wiki/Z-test) given by $$z=\\frac{\\overline{X}-\\mu}{\\sigma/\\sqrt{N}}$$"
   ]
  },
  {
   "cell_type": "markdown",
   "metadata": {},
   "source": [
    "The sampling distribution for t can be obtained:"
   ]
  },
  {
   "cell_type": "markdown",
   "metadata": {
    "collapsed": true
   },
   "source": [
    "## $$  f(t) = \\frac {\\varGamma(\\frac{v+1}{2})}{\\sqrt{v\\pi}\\varGamma(\\frac{v}{2})} (1+\\frac{t^2}{v})^{-\\frac{v+1}{2}}$$"
   ]
  },
  {
   "cell_type": "markdown",
   "metadata": {},
   "source": [
    "Where the gamma function is: $$\\varGamma(n)=(n-1)!$$"
   ]
  },
  {
   "cell_type": "markdown",
   "metadata": {},
   "source": [
    "And v is the number of degrees of freedom, typically equal to N-1. "
   ]
  },
  {
   "cell_type": "markdown",
   "metadata": {},
   "source": [
    "Similar to a z-score table used with a normal distribution, a t-distribution uses a t-table. Knowing the degrees of freedom and the desired cumulative probability (e.g. P(T >= t) ) we can find the value of t. Here is an example of a lookup table for a t-distribution: "
   ]
  },
  {
   "cell_type": "markdown",
   "metadata": {},
   "source": [
    "http://www.sjsu.edu/faculty/gerstman/StatPrimer/t-table.pdf\n"
   ]
  },
  {
   "cell_type": "markdown",
   "metadata": {},
   "source": [
    "Now let's see how to get the t-distribution in Python using scipy!"
   ]
  },
  {
   "cell_type": "code",
   "execution_count": 144,
   "metadata": {},
   "outputs": [
    {
     "data": {
      "text/plain": [
       "[<matplotlib.lines.Line2D at 0x120deab10>]"
      ]
     },
     "execution_count": 144,
     "metadata": {},
     "output_type": "execute_result"
    },
    {
     "data": {
      "image/png": "[encoded data removed]",
      "text/plain": [
       "<matplotlib.figure.Figure at 0x12102b3d0>"
      ]
     },
     "metadata": {},
     "output_type": "display_data"
    }
   ],
   "source": [
    "#Import for plots\n",
    "import matplotlib.pyplot as plt\n",
    "%matplotlib inline\n",
    "\n",
    "#Import the stats library\n",
    "from scipy.stats import t\n",
    "\n",
    "#import numpy\n",
    "import numpy as np\n",
    "\n",
    "# Create x range\n",
    "x = np.linspace(-5, 5, 100)\n",
    "\n",
    "# Create the t distribution with scipy\n",
    "# Freeze the distribution and display the frozen ``pdf``:\n",
    "# t(df=degrees of freedom)\n",
    "rv = t(3)\n",
    "\n",
    "# Plot the PDF versus the x range\n",
    "plt.plot(x, rv.pdf(x))\n",
    "plt.plot(x, rv.cdf(x))"
   ]
  },
  {
   "cell_type": "code",
   "execution_count": 145,
   "metadata": {
    "collapsed": true
   },
   "outputs": [],
   "source": [
    "mean, var, skew, kurt = t.stats(3, moments='mvsk')"
   ]
  },
  {
   "cell_type": "code",
   "execution_count": 146,
   "metadata": {},
   "outputs": [
    {
     "name": "stdout",
     "output_type": "stream",
     "text": [
      "0.0\n",
      "3.0\n",
      "nan\n",
      "nan\n"
     ]
    }
   ],
   "source": [
    "print mean\n",
    "print var\n",
    "print skew\n",
    "print kurt"
   ]
  },
  {
   "cell_type": "markdown",
   "metadata": {},
   "source": [
    "### Problem\n",
    "\n",
    "Acme Corporation manufactures light bulbs. The CEO claims that an average Acme light bulb lasts 300 days. A researcher randomly selects 15 bulbs for testing. The sampled bulbs last an average of 290 days, with a standard deviation of 50 days. If the CEO's claim were true, what is the probability that 15 randomly selected bulbs would have an average life of no more than 290 days?\n",
    "\n",
    "Note: There are two ways to solve this problem, using the T Distribution Calculator. Both approaches are presented below. Solution A is the traditional approach. It requires you to compute the t statistic, based on data presented in the problem description. Then, you use the T Distribution Calculator to find the probability. Solution B is easier. You simply enter the problem data into the T Distribution Calculator. The calculator computes a t statistic \"behind the scenes\", and displays the probability. Both approaches come up with exactly the same answer.\n",
    "\n",
    "Solution A\n",
    "\n",
    "The first thing we need to do is compute the t statistic, based on the following equation:\n",
    "\n",
    "$$t = \\frac{(x - \\mu)}{s / \\sqrt( n )}$$ \n",
    "$$t = \\frac{( 290 - 300 )}{50 / \\sqrt( 15)} = -10 / 12.909945 = - 0.7745966 $$\n",
    "\n"
   ]
  },
  {
   "cell_type": "markdown",
   "metadata": {},
   "source": [
    "[Note](http://support.minitab.com/en-us/minitab/17/topic-library/basic-statistics-and-graphs/introductory-concepts/p-value-and-significance-level/manually-calculate-p-value/):\n",
    "\n",
    "Introduction to calculating a p-value\n",
    "\n",
    "The p-value is calculated using the test statistic calculated from the samples, the assumed distribution, and the type of test being done (lower-tailed test, upper-tailed test, or two-tailed test).\n",
    "\n",
    "The p-value for:\n",
    "* a lower-tailed test is specified by: p-value = P(TS < ts | H0 is true) = cdf(ts)\n",
    "* an upper-tailed test is specified by: p-value = P(TS > ts | H0 is true) = 1 - cdf(ts)\n",
    "* a two-sided test is specified by: p-value = 2 * P(TS > |ts| | H0 is true) = 2 * (1 - cdf(|ts|))\n",
    "\n",
    "Where:\n",
    "\n",
    "* P: Probability of a random variable having a range of values.\n",
    "* TS: Random variable associated with the assumed distribution.\n",
    "* ts: The test statistic calculated from your sample.\n",
    "* cdf(): Cumulative density function of the assumed distribution."
   ]
  },
  {
   "cell_type": "code",
   "execution_count": 147,
   "metadata": {
    "collapsed": true
   },
   "outputs": [],
   "source": [
    "# sample mean\n",
    "sm = 290\n",
    "# sample standard devitaion \n",
    "sd = 50\n",
    "# population mean\n",
    "m = 300\n",
    "# sample size\n",
    "n = 15\n",
    "# degrees of freedom n-1 = 15-1\n",
    "df = 14"
   ]
  },
  {
   "cell_type": "code",
   "execution_count": 148,
   "metadata": {},
   "outputs": [
    {
     "name": "stdout",
     "output_type": "stream",
     "text": [
      "290.0\n",
      "54.0061724867\n"
     ]
    }
   ],
   "source": [
    "rv = t(df, loc=sm, scale=sd)\n",
    "print rv.mean()\n",
    "print rv.std()"
   ]
  },
  {
   "cell_type": "code",
   "execution_count": 149,
   "metadata": {
    "collapsed": true
   },
   "outputs": [],
   "source": [
    "# Create x range\n",
    "x = np.linspace(0, 600, 100)"
   ]
  },
  {
   "cell_type": "code",
   "execution_count": 150,
   "metadata": {},
   "outputs": [
    {
     "data": {
      "text/plain": [
       "[<matplotlib.lines.Line2D at 0x121339e50>]"
      ]
     },
     "execution_count": 150,
     "metadata": {},
     "output_type": "execute_result"
    },
    {
     "data": {
      "image/png": "[encoded data removed]",
      "text/plain": [
       "<matplotlib.figure.Figure at 0x120e37390>"
      ]
     },
     "metadata": {},
     "output_type": "display_data"
    }
   ],
   "source": [
    "# Plot the PDF versus the x range\n",
    "plt.plot(x, rv.pdf(x))"
   ]
  },
  {
   "cell_type": "code",
   "execution_count": 151,
   "metadata": {},
   "outputs": [
    {
     "data": {
      "text/plain": [
       "[<matplotlib.lines.Line2D at 0x1213c5450>]"
      ]
     },
     "execution_count": 151,
     "metadata": {},
     "output_type": "execute_result"
    },
    {
     "data": {
      "image/png": "[encoded data removed]",
      "text/plain": [
       "<matplotlib.figure.Figure at 0x120aced90>"
      ]
     },
     "metadata": {},
     "output_type": "display_data"
    }
   ],
   "source": [
    "plt.plot(x, rv.cdf(x))"
   ]
  },
  {
   "cell_type": "markdown",
   "metadata": {},
   "source": [
    "Have a look at [t-test-and-ks-test](https://docs.scipy.org/doc/scipy/reference/tutorial/stats.html#t-test-and-ks-test)"
   ]
  },
  {
   "cell_type": "code",
   "execution_count": 152,
   "metadata": {},
   "outputs": [
    {
     "name": "stdout",
     "output_type": "stream",
     "text": [
      "-0.774596669241\n"
     ]
    }
   ],
   "source": [
    "tt = (sm - m) / (sd/float(np.sqrt(n)))  # t-statistic for mean\n",
    "print tt"
   ]
  },
  {
   "cell_type": "code",
   "execution_count": 153,
   "metadata": {},
   "outputs": [
    {
     "name": "stdout",
     "output_type": "stream",
     "text": [
      "0.451462584516\n"
     ]
    }
   ],
   "source": [
    "# Survival function gives the probability that the variate has a value greater than the given value; SF = 1 - CDF.\n",
    "pval = t.sf(np.abs(tt), n - 1)*2  # two-sided pvalue = Prob(abs(t)>tt) Just meaninful when the distribution\n",
    "# is symmetric\n",
    "print pval"
   ]
  },
  {
   "cell_type": "code",
   "execution_count": 154,
   "metadata": {},
   "outputs": [
    {
     "data": {
      "text/plain": [
       "0.22573129225779137"
      ]
     },
     "execution_count": 154,
     "metadata": {},
     "output_type": "execute_result"
    }
   ],
   "source": [
    "# Comulative prob with 15 degrees of freedoom\n",
    "# CDF gives the probability that the variate has a value less than or equal to the given value. p values= Prob(abs(t)<=tt)\n",
    "# Lower-tailed test\n",
    "t.cdf(tt, df=n - 1)"
   ]
  },
  {
   "cell_type": "code",
   "execution_count": 155,
   "metadata": {},
   "outputs": [
    {
     "data": {
      "text/plain": [
       "0.22573129225779137"
      ]
     },
     "execution_count": 155,
     "metadata": {},
     "output_type": "execute_result"
    }
   ],
   "source": [
    "# Upper-tailed test\n",
    "t.sf(np.abs(tt), n - 1)"
   ]
  },
  {
   "cell_type": "markdown",
   "metadata": {},
   "source": [
    "The calculator displays the cumulative probability: 0.226. Hence, if the true bulb life were 300 days, there is a 22.6% chance that the average bulb life for 15 randomly selected bulbs would be less than or equal to 290 days. Hence, there is a 22.6% chance that the average sampled light bulb will burn out within 290 days."
   ]
  },
  {
   "cell_type": "code",
   "execution_count": 156,
   "metadata": {},
   "outputs": [
    {
     "data": {
      "text/plain": [
       "297.84552291731393"
      ]
     },
     "execution_count": 156,
     "metadata": {},
     "output_type": "execute_result"
    }
   ],
   "source": [
    "# getting samples to use the t-test implemented in scipy\n",
    "# This draws  a random sample, so it willl awlays change and we can't compare with the results with ttest_1samp(x, m))\n",
    "x = rv.rvs(90)\n",
    "x.mean()"
   ]
  },
  {
   "cell_type": "code",
   "execution_count": 157,
   "metadata": {},
   "outputs": [
    {
     "data": {
      "text/plain": [
       "Ttest_1sampResult(statistic=-0.3673325759925179, pvalue=0.71424298778106421)"
      ]
     },
     "execution_count": 157,
     "metadata": {},
     "output_type": "execute_result"
    }
   ],
   "source": [
    "stats.ttest_1samp(x, m)"
   ]
  },
  {
   "cell_type": "code",
   "execution_count": 158,
   "metadata": {},
   "outputs": [
    {
     "data": {
      "text/plain": [
       "-1.7613101357748564"
      ]
     },
     "execution_count": 158,
     "metadata": {},
     "output_type": "execute_result"
    }
   ],
   "source": [
    "t.ppf(q=0.05,  # Quantile to check\n",
    "            df=14)  # Degrees of freedom"
   ]
  },
  {
   "cell_type": "code",
   "execution_count": 159,
   "metadata": {},
   "outputs": [
    {
     "data": {
      "text/plain": [
       "1.7613101357748562"
      ]
     },
     "execution_count": 159,
     "metadata": {},
     "output_type": "execute_result"
    }
   ],
   "source": [
    "t.ppf(q=0.95,  # Quantile to check\n",
    "            df=14)  # Degrees of freedom"
   ]
  },
  {
   "cell_type": "markdown",
   "metadata": {},
   "source": [
    "Statisticians use $t_{\\alpha}$ to represent the t statistic that has a cumulative probability of $(1 - \\alpha)$. For example, suppose we were interested in the t statistic having a cumulative probability of 0.95. In this example, α would be equal to (1 - 0.95) or 0.05. We would refer to the t statistic as $t_{0.05}$\n",
    "\n",
    "Of course, the value of $t_{0.05}$ depends on the number of degrees of freedom. For example, with 2 degrees of freedom, that $t_{0.05}$ is equal to 2.92; but with 20 degrees of freedom, that $t_{0.05}$ is equal to 1.725.\n",
    "\n",
    "Note: Because the t distribution is symmetric about a mean of zero, the following is true.\n",
    "\n",
    "$t_{\\alpha} = -t_1 - \\alpha$       And       $t_1 - \\alpha = -t_{\\alpha}$\n",
    "\n",
    "Thus, if $t_{0.05} = 2.92$, then $t_{0.95} = -2.92$."
   ]
  },
  {
   "cell_type": "code",
   "execution_count": 160,
   "metadata": {},
   "outputs": [
    {
     "data": {
      "text/plain": [
       "(262.31092292176794, 317.68907707823206)"
      ]
     },
     "execution_count": 160,
     "metadata": {},
     "output_type": "execute_result"
    }
   ],
   "source": [
    "# http://stackoverflow.com/questions/17203403/student-t-confidence-interval-in-python\n",
    "# T-interval interval(alpha, df, loc, scale)\n",
    "sigma = 50/math.sqrt(15) # Standard dev estimate\n",
    "t.interval(0.95, 14, loc=290, scale=sigma)  # 95% confidence interval"
   ]
  },
  {
   "cell_type": "markdown",
   "metadata": {},
   "source": [
    "This capture the population mean of 300"
   ]
  },
  {
   "cell_type": "markdown",
   "metadata": {},
   "source": [
    "Additional resources can be found here:\n",
    "\n",
    "1.) http://en.wikipedia.org/wiki/Student%27s_t-distribution\n",
    "\n",
    "2.) http://mathworld.wolfram.com/Studentst-Distribution.html\n",
    "\n",
    "3.) http://stattrek.com/probability-distributions/t-distribution.aspx\n",
    "\n",
    "Useful example Juan: http://stackoverflow.com/questions/20864847/probability-to-z-score-and-vice-versa-in-python"
   ]
  },
  {
   "cell_type": "code",
   "execution_count": null,
   "metadata": {
    "collapsed": true
   },
   "outputs": [],
   "source": []
  }
 ],
 "metadata": {
  "anaconda-cloud": {},
  "kernelspec": {
   "display_name": "Python [default]",
   "language": "python",
   "name": "python2"
  },
  "language_info": {
   "codemirror_mode": {
    "name": "ipython",
    "version": 2
   },
   "file_extension": ".py",
   "mimetype": "text/x-python",
   "name": "python",
   "nbconvert_exporter": "python",
   "pygments_lexer": "ipython2",
   "version": "2.7.13"
  }
 },
 "nbformat": 4,
 "nbformat_minor": 1
}
